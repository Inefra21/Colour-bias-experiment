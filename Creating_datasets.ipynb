{
  "nbformat": 4,
  "nbformat_minor": 0,
  "metadata": {
    "colab": {
      "provenance": [],
      "mount_file_id": "1X_6O4VBtH2naY-HfcbW949Nkz5u3qyiq",
      "authorship_tag": "ABX9TyOsnH4NlwPhdEJivMLAfCfI",
      "include_colab_link": true
    },
    "kernelspec": {
      "name": "python3",
      "display_name": "Python 3"
    },
    "language_info": {
      "name": "python"
    }
  },
  "cells": [
    {
      "cell_type": "markdown",
      "metadata": {
        "id": "view-in-github",
        "colab_type": "text"
      },
      "source": [
        "<a href=\"https://colab.research.google.com/github/Inefra21/Colour-bias-experiment/blob/main/Creating_datasets.ipynb\" target=\"_parent\"><img src=\"https://colab.research.google.com/assets/colab-badge.svg\" alt=\"Open In Colab\"/></a>"
      ]
    },
    {
      "cell_type": "markdown",
      "source": [
        "# Importing packages"
      ],
      "metadata": {
        "id": "OONHhi8dFCV7"
      }
    },
    {
      "cell_type": "code",
      "execution_count": null,
      "metadata": {
        "id": "KrQqR1ZXwT4e"
      },
      "outputs": [],
      "source": [
        "import os\n",
        "import shutil\n",
        "import numpy as np\n",
        "from PIL import Image"
      ]
    },
    {
      "cell_type": "markdown",
      "source": [
        "# Loading data"
      ],
      "metadata": {
        "id": "z3DTasELFroo"
      }
    },
    {
      "cell_type": "code",
      "source": [
        "# Mount the drive to access files\n",
        "from google.colab import drive\n",
        "drive.mount('/content/drive')"
      ],
      "metadata": {
        "id": "Qf27rssZweVB"
      },
      "execution_count": null,
      "outputs": []
    },
    {
      "cell_type": "code",
      "source": [
        "# Create directory to the filtered cats and dogs folder\n",
        "base_dir = '/content/drive/MyDrive/cats_and_dogs_filtered'\n",
        "train_dir = os.path.join(base_dir, 'train')\n",
        "val_dir = os.path.join(base_dir, 'validation')"
      ],
      "metadata": {
        "id": "hlBepuojwk0X"
      },
      "execution_count": null,
      "outputs": []
    },
    {
      "cell_type": "code",
      "source": [
        "train_cats_dir = os.path.join(train_dir, 'cats')\n",
        "train_dogs_dir = os.path.join(train_dir, 'dogs')\n",
        "val_cats_dir = os.path.join(val_dir, 'cats')\n",
        "val_dogs_dir = os.path.join(val_dir, 'dogs')\n",
        "\n",
        "train_cats_light_dir = os.path.join(train_cats_dir, 'Light')\n",
        "train_cats_dark_dir = os.path.join(train_cats_dir, 'Dark')\n",
        "train_dogs_light_dir = os.path.join(train_dogs_dir, 'Light')\n",
        "train_dogs_dark_dir = os.path.join(train_dogs_dir, 'Dark')\n",
        "\n",
        "val_cats_light_dir = os.path.join(val_cats_dir, 'Light')\n",
        "val_cats_dark_dir = os.path.join(val_cats_dir, 'Dark')\n",
        "val_dogs_light_dir = os.path.join(val_dogs_dir, 'Light')\n",
        "val_dogs_dark_dir = os.path.join(val_dogs_dir, 'Dark')"
      ],
      "metadata": {
        "id": "51Tjajd-wqXM"
      },
      "execution_count": null,
      "outputs": []
    },
    {
      "cell_type": "markdown",
      "source": [
        "# Understanding the data"
      ],
      "metadata": {
        "id": "4cFXna87GAIp"
      }
    },
    {
      "cell_type": "code",
      "source": [
        "# Count the number of images in each folder\n",
        "num_cats_tr = (len(os.listdir(train_cats_light_dir))+len(os.listdir(train_cats_dark_dir)))\n",
        "num_dogs_tr = (len(os.listdir(train_dogs_light_dir))+len(os.listdir(train_dogs_dark_dir)))\n",
        "\n",
        "num_cats_val = (len(os.listdir(val_cats_light_dir))+len(os.listdir(val_cats_dark_dir)))\n",
        "num_dogs_val = (len(os.listdir(val_dogs_light_dir))+len(os.listdir(val_dogs_dark_dir)))\n",
        "\n",
        "total_train = num_cats_tr + num_dogs_tr\n",
        "total_val = num_cats_val + num_dogs_val"
      ],
      "metadata": {
        "id": "Q_ZIqrK8oovL"
      },
      "execution_count": null,
      "outputs": []
    },
    {
      "cell_type": "code",
      "source": [
        "print('total training cat images:', num_cats_tr)\n",
        "print('total training dog images:', num_dogs_tr)\n",
        "\n",
        "print('total validation cat images:', num_cats_val)\n",
        "print('total validation dog images:', num_dogs_val)\n",
        "print(\"--\")\n",
        "print(\"Total training images:\", total_train)\n",
        "print(\"Total validation images:\", total_val)"
      ],
      "metadata": {
        "id": "3JQauw47pcOS"
      },
      "execution_count": null,
      "outputs": []
    },
    {
      "cell_type": "markdown",
      "source": [
        "# Resize images"
      ],
      "metadata": {
        "id": "liT_DrQ0EwEA"
      }
    },
    {
      "cell_type": "code",
      "source": [
        "# List all files in the folder\n",
        "files = [f for f in os.listdir(train_cats_dark_dir) if os.path.isfile(os.path.join(train_cats_dark_dir, f))]\n",
        "\n",
        "# Filter out image files (e.g., .jpg, .png)\n",
        "image_files = [f for f in files if f.lower().endswith(('.png', '.jpg', '.jpeg'))]"
      ],
      "metadata": {
        "id": "8IoHq7C5xnev"
      },
      "execution_count": null,
      "outputs": []
    },
    {
      "cell_type": "code",
      "source": [
        "# Define a function to resize the image\n",
        "def resize_image(image_path, output_path, max_size_kb=40):\n",
        "    with Image.open(image_path) as img:\n",
        "        #Ensure correct mode\n",
        "        if img.mode in (\"P\", \"L\", \"RGBA\"):  # Palette, grayscale, or with alpha channel\n",
        "            img = img.convert(\"RGB\")\n",
        "        # Check file size\n",
        "        size_kb = os.path.getsize(output_path) / 1024\n",
        "        quality = 85\n",
        "        while size_kb > max_size_kb and quality > 10:\n",
        "            quality -= 5\n",
        "            img.save(output_path, quality=quality)\n",
        "            size_kb = os.path.getsize(output_path) / 1024\n",
        "    return\n",
        "\n",
        "# Loop through the images and resize those above 40KB\n",
        "for image_file in image_files:\n",
        "    image_path = os.path.join(train_cats_dark_dir, image_file)\n",
        "    output_path = os.path.join(train_cats_dark_dir, image_file)\n",
        "    # Overwrite the original file\n",
        "    size_kb = os.path.getsize(image_path) / 1024\n",
        "    if size_kb > 40:\n",
        "        resize_image(image_path, output_path)\n",
        "        print(f'Resized: {image_file}')\n",
        "    else:\n",
        "        print(f'Skipped: {image_file}')"
      ],
      "metadata": {
        "id": "j-qV2VYPwyRp"
      },
      "execution_count": null,
      "outputs": []
    },
    {
      "cell_type": "markdown",
      "source": [
        "# Create datasets"
      ],
      "metadata": {
        "id": "EzijgvjME4W7"
      }
    },
    {
      "cell_type": "markdown",
      "source": [
        "Run the cells below for each dataset, changing the number on the file name and the INDEX value acordingly."
      ],
      "metadata": {
        "id": "fVkKHEOHGAsG"
      }
    },
    {
      "cell_type": "code",
      "source": [
        "# Create a new folder in Drive\n",
        "CaD_50_dir = '/content/drive/MyDrive/c&d_50'\n",
        "CaD_50_train_dir = '/content/drive/MyDrive/c&d_50/train'\n",
        "CaD_50_train_c_dir = '/content/drive/MyDrive/c&d_50/train/cats'\n",
        "CaD_50_train_d_dir = '/content/drive/MyDrive/c&d_50/train/dogs'\n",
        "CaD_50_val_dir = '/content/drive/MyDrive/c&d_50/validation'\n",
        "CaD_50_val_c_dir = '/content/drive/MyDrive/c&d_50/validation/cats'\n",
        "CaD_50_val_d_dir = '/content/drive/MyDrive/c&d_50/validation/dogs'\n",
        "\n",
        "folders = [CaD_50_dir, CaD_50_train_dir, CaD_50_train_c_dir, CaD_50_train_d_dir, CaD_50_val_dir, CaD_50_val_c_dir, CaD_50_val_d_dir]\n",
        "\n",
        "for directory in range(len(folders)):\n",
        "  os.mkdir(folders[directory])"
      ],
      "metadata": {
        "id": "lVjJPyeyu8c2"
      },
      "execution_count": null,
      "outputs": []
    },
    {
      "cell_type": "code",
      "source": [
        "# Define a function to copy a file to another destination\n",
        "def Copy_files(source_dir, dest_dir, INDEX):\n",
        "  all_files = os.listdir(source_dir)\n",
        "  selected_files = all_files[:INDEX]\n",
        "  for file_name in selected_files:\n",
        "      full_file_name = os.path.join(source_dir, file_name)\n",
        "      if os.path.isfile(full_file_name):\n",
        "          shutil.copy(full_file_name, dest_dir)\n",
        "\n",
        "# Copy selected files to the training cats folder\n",
        "Copy_files(train_cats_light_dir, CaD_50_train_c_dir, int(np.ceil(1000*0.5)))\n",
        "Copy_files(train_cats_dark_dir, CaD_50_train_c_dir, int(np.ceil(1000*0.5)))\n",
        "\n",
        "# Copy selected files to the training dogs folder\n",
        "Copy_files(train_dogs_light_dir, CaD_50_train_d_dir, int(np.ceil(1000*0.5)))\n",
        "Copy_files(train_dogs_dark_dir, CaD_50_train_d_dir, int(np.ceil(1000*0.5)))\n",
        "\n",
        "# Copy selected files to the validation cats folder\n",
        "Copy_files(val_cats_light_dir, CaD_50_val_c_dir, int(np.ceil(200*0.5)))\n",
        "Copy_files(val_cats_dark_dir, CaD_50_val_c_dir, int(np.ceil(200*0.5)))\n",
        "\n",
        "# Copy selected files to the validation dogs folder\n",
        "Copy_files(val_dogs_light_dir, CaD_50_val_d_dir, int(np.ceil(200*0.5)))\n",
        "Copy_files(val_dogs_dark_dir, CaD_50_val_d_dir, int(np.ceil(200*0.5)))"
      ],
      "metadata": {
        "id": "55TQnq3nw6Pu"
      },
      "execution_count": null,
      "outputs": []
    }
  ]
}